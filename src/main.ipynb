{
 "cells": [
  {
   "cell_type": "code",
   "execution_count": 1,
   "id": "computational-writer",
   "metadata": {},
   "outputs": [],
   "source": [
    "import random, csv\n",
    "from evaluator import *"
   ]
  },
  {
   "cell_type": "code",
   "execution_count": 2,
   "id": "fewer-bailey",
   "metadata": {},
   "outputs": [],
   "source": [
    "def generate_random_answers():\n",
    "    \"\"\"Generate a random dict of answers for the test\n",
    "    \n",
    "    Returns:\n",
    "        random_dict: a dictionary object of randomised answers\n",
    "    \"\"\"\n",
    "    random_dict = {}\n",
    "    sex = ['Male', 'Female']\n",
    "    random_dict['Sex'] = sex[random.randint(0,1)]\n",
    "    random_dict['Age'] = random.randint(18,55)\n",
    "    # TODO: Generate a random name or ID\n",
    "    random_dict['Name'] = 'X'\n",
    "    # TODO: Generate random country\n",
    "    random_dict['Country'] = 'GBR'\n",
    "    # We have 120 questions in our test.\n",
    "    for q in range(1,121):\n",
    "        random_dict[f\"Q{q}\"] = random.randint(1,5)\n",
    "    return random_dict"
   ]
  },
  {
   "cell_type": "code",
   "execution_count": 3,
   "id": "ready-burlington",
   "metadata": {},
   "outputs": [],
   "source": [
    "def generate_random_results(n):\n",
    "    \"\"\"Generate IPIP-NEO results from rand data\n",
    "    \n",
    "    Args:\n",
    "        n(int): Number of rand results to generate\n",
    "    \n",
    "    Returns:\n",
    "        results: yields results. Therefore we have a generator\n",
    "            which is useful if you're creating a large dataset\n",
    "    \"\"\"\n",
    "    for i in range(0,n):\n",
    "        rand_data = generate_random_answers()\n",
    "        results = evaluator(rand_data)\n",
    "        yield results"
   ]
  },
  {
   "cell_type": "code",
   "execution_count": 4,
   "id": "wrong-processing",
   "metadata": {},
   "outputs": [],
   "source": [
    "# Generate 20,000 rows and dump it into a CSV = 1.8mb\n",
    "# The results are more detail than what I dump\n",
    "# I am only dumping the scores from each trait\n",
    "with open('sample_data.csv', 'w') as f:\n",
    "    results_generator = generate_random_results(1000)\n",
    "    once = False\n",
    "    for i in results_generator:\n",
    "        if(once==False):\n",
    "            w = csv.DictWriter(f, i['scores'].keys())\n",
    "            w.writeheader()\n",
    "            once = True\n",
    "        w.writerow(i['scores'])"
   ]
  },
  {
   "cell_type": "code",
   "execution_count": null,
   "id": "healthy-temple",
   "metadata": {},
   "outputs": [],
   "source": []
  }
 ],
 "metadata": {
  "kernelspec": {
   "display_name": "Python 3",
   "language": "python",
   "name": "python3"
  },
  "language_info": {
   "codemirror_mode": {
    "name": "ipython",
    "version": 3
   },
   "file_extension": ".py",
   "mimetype": "text/x-python",
   "name": "python",
   "nbconvert_exporter": "python",
   "pygments_lexer": "ipython3",
   "version": "3.8.6"
  }
 },
 "nbformat": 4,
 "nbformat_minor": 5
}
